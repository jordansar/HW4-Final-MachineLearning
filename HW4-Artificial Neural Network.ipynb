{
 "cells": [
  {
   "cell_type": "markdown",
   "metadata": {},
   "source": [
    "HW - 4 and Final \n",
    "\n",
    "Group : Jordan, Kato."
   ]
  },
  {
   "cell_type": "markdown",
   "metadata": {},
   "source": [
    "Test your network with different numbers of layers and neurons and present the best result found.\n",
    "\n",
    "Describe the problem that you have chosen.\n",
    "\n",
    "1. If possible, provide a link (kaggle?) with details on the problem/dataset.\n",
    "2. What is the input? What is the output?\n",
    "3. What type of problem is this?\n",
    "4. What are the features or attributes that you will use from the dataset.\n",
    "5. What is your evaluation metric? Accuracy? RMSE? MAE? Recall/Precision?"
   ]
  },
  {
   "cell_type": "markdown",
   "metadata": {},
   "source": [
    "We created a dataset based on online information from yahoo finance using an API called yfinance. The stock information used was for Amazon from 01/01/2019 - 01/01/2020 The dataset contains 7 features: Date, Open, High, Low, Close, Adj Close, and Volume. The inputs used were Open, High, and Low. The output is the Close price of the stock. The problem is to predict the Close price of the stock based on the input features. This is a regression problem. The evaluation metric is RMSE."
   ]
  },
  {
   "cell_type": "markdown",
   "metadata": {},
   "source": [
    "# Getting The Data\n"
   ]
  },
  {
   "cell_type": "code",
   "execution_count": 229,
   "metadata": {},
   "outputs": [],
   "source": [
    "import numpy as np\n",
    "import pandas as pd\n",
    "\n",
    "import matplotlib.pyplot as plt\n",
    "\n",
    "import pandas_datareader as data_reader\n",
    "import yfinance as yf\n",
    "from pandas_datareader import data as pdr\n",
    "from sklearn import linear_model\n",
    "from sklearn.metrics import mean_squared_error, r2_score\n",
    "\n",
    "yf.pdr_override()"
   ]
  },
  {
   "cell_type": "code",
   "execution_count": 230,
   "metadata": {},
   "outputs": [
    {
     "name": "stdout",
     "output_type": "stream",
     "text": [
      "[*********************100%%**********************]  1 of 1 completed\n"
     ]
    }
   ],
   "source": [
    "# getting the data from yahoo finance\n",
    "\n",
    "df = pdr.get_data_yahoo(\"AMZN\", start=\"2017-01-01\", end=\"2020-01-01\")"
   ]
  },
  {
   "cell_type": "markdown",
   "metadata": {},
   "source": [
    "# Exploring The Data"
   ]
  },
  {
   "cell_type": "markdown",
   "metadata": {},
   "source": [
    "#### a) How is the input structured (both an individual instance and the entire dataset) ?"
   ]
  },
  {
   "cell_type": "markdown",
   "metadata": {},
   "source": [
    "The financial dataset has columns of Open, High, Low, Close, Volume, and Adj Close.  \n",
    "\n",
    "Each row corresponds to a daily observation of stock prices for a given stock symbol.\n",
    "\n",
    "Data types are numerical (float64 for prices, int64 for volume), and the dataset doesn't have any missing values.\n",
    "\n",
    "We will not be using the Adj Close and Volume columns for to solve our problem."
   ]
  },
  {
   "cell_type": "code",
   "execution_count": 231,
   "metadata": {},
   "outputs": [
    {
     "data": {
      "text/html": [
       "<div>\n",
       "<style scoped>\n",
       "    .dataframe tbody tr th:only-of-type {\n",
       "        vertical-align: middle;\n",
       "    }\n",
       "\n",
       "    .dataframe tbody tr th {\n",
       "        vertical-align: top;\n",
       "    }\n",
       "\n",
       "    .dataframe thead th {\n",
       "        text-align: right;\n",
       "    }\n",
       "</style>\n",
       "<table border=\"1\" class=\"dataframe\">\n",
       "  <thead>\n",
       "    <tr style=\"text-align: right;\">\n",
       "      <th></th>\n",
       "      <th>Open</th>\n",
       "      <th>High</th>\n",
       "      <th>Low</th>\n",
       "      <th>Close</th>\n",
       "      <th>Adj Close</th>\n",
       "      <th>Volume</th>\n",
       "    </tr>\n",
       "    <tr>\n",
       "      <th>Date</th>\n",
       "      <th></th>\n",
       "      <th></th>\n",
       "      <th></th>\n",
       "      <th></th>\n",
       "      <th></th>\n",
       "      <th></th>\n",
       "    </tr>\n",
       "  </thead>\n",
       "  <tbody>\n",
       "    <tr>\n",
       "      <th>2017-01-03</th>\n",
       "      <td>37.896000</td>\n",
       "      <td>37.938000</td>\n",
       "      <td>37.384998</td>\n",
       "      <td>37.683498</td>\n",
       "      <td>37.683498</td>\n",
       "      <td>70422000</td>\n",
       "    </tr>\n",
       "    <tr>\n",
       "      <th>2017-01-04</th>\n",
       "      <td>37.919498</td>\n",
       "      <td>37.984001</td>\n",
       "      <td>37.709999</td>\n",
       "      <td>37.859001</td>\n",
       "      <td>37.859001</td>\n",
       "      <td>50210000</td>\n",
       "    </tr>\n",
       "    <tr>\n",
       "      <th>2017-01-05</th>\n",
       "      <td>38.077499</td>\n",
       "      <td>39.119999</td>\n",
       "      <td>38.013000</td>\n",
       "      <td>39.022499</td>\n",
       "      <td>39.022499</td>\n",
       "      <td>116602000</td>\n",
       "    </tr>\n",
       "    <tr>\n",
       "      <th>2017-01-06</th>\n",
       "      <td>39.118000</td>\n",
       "      <td>39.972000</td>\n",
       "      <td>38.924000</td>\n",
       "      <td>39.799500</td>\n",
       "      <td>39.799500</td>\n",
       "      <td>119724000</td>\n",
       "    </tr>\n",
       "    <tr>\n",
       "      <th>2017-01-09</th>\n",
       "      <td>39.900002</td>\n",
       "      <td>40.088501</td>\n",
       "      <td>39.588501</td>\n",
       "      <td>39.846001</td>\n",
       "      <td>39.846001</td>\n",
       "      <td>68922000</td>\n",
       "    </tr>\n",
       "  </tbody>\n",
       "</table>\n",
       "</div>"
      ],
      "text/plain": [
       "                 Open       High        Low      Close  Adj Close     Volume\n",
       "Date                                                                        \n",
       "2017-01-03  37.896000  37.938000  37.384998  37.683498  37.683498   70422000\n",
       "2017-01-04  37.919498  37.984001  37.709999  37.859001  37.859001   50210000\n",
       "2017-01-05  38.077499  39.119999  38.013000  39.022499  39.022499  116602000\n",
       "2017-01-06  39.118000  39.972000  38.924000  39.799500  39.799500  119724000\n",
       "2017-01-09  39.900002  40.088501  39.588501  39.846001  39.846001   68922000"
      ]
     },
     "execution_count": 231,
     "metadata": {},
     "output_type": "execute_result"
    }
   ],
   "source": [
    "# Displaying the first 5 rows of the dataset\n",
    "df.head()"
   ]
  },
  {
   "cell_type": "markdown",
   "metadata": {},
   "source": [
    "#### b) How is the output structure"
   ]
  },
  {
   "cell_type": "markdown",
   "metadata": {},
   "source": [
    "The target variable 'Close' represents the closing price of the Amazon stock. \n"
   ]
  },
  {
   "cell_type": "code",
   "execution_count": 232,
   "metadata": {},
   "outputs": [
    {
     "name": "stdout",
     "output_type": "stream",
     "text": [
      "count    754.000000\n",
      "mean      73.339447\n",
      "std       19.233734\n",
      "min       37.683498\n",
      "25%       50.159251\n",
      "50%       80.275501\n",
      "75%       89.387127\n",
      "max      101.975502\n",
      "Name: Close, dtype: float64\n"
     ]
    }
   ],
   "source": [
    "print(df['Close'].describe())"
   ]
  },
  {
   "cell_type": "markdown",
   "metadata": {},
   "source": [
    "#### c) Will any features or output labels need to be encoded?"
   ]
  },
  {
   "cell_type": "markdown",
   "metadata": {},
   "source": [
    "No the data from yahoo finance doesn't have any categorical features hence we won't need to encode."
   ]
  },
  {
   "cell_type": "markdown",
   "metadata": {},
   "source": [
    "#### d) If the input is an image, display a few sample images. If the input is a vector of attributes, provide relevant visualization(s), plot(s) or statistic(s) to understand the value ranges or possible correlations."
   ]
  },
  {
   "cell_type": "markdown",
   "metadata": {},
   "source": [
    "Our inputs aren't images, they are also not vectors of attributes."
   ]
  },
  {
   "cell_type": "markdown",
   "metadata": {},
   "source": [
    "#### e) Comment in your notebook about what you see from exploration of the datasets."
   ]
  },
  {
   "cell_type": "markdown",
   "metadata": {},
   "source": [
    "We see that the Amazon stock price is increasing gradually over the months and years. The closing price in on an upward trend."
   ]
  },
  {
   "cell_type": "markdown",
   "metadata": {},
   "source": [
    "# Preparing the Data"
   ]
  },
  {
   "cell_type": "code",
   "execution_count": 233,
   "metadata": {},
   "outputs": [],
   "source": [
    "dates = df.index\n",
    "date = pd.to_datetime(df.index)"
   ]
  },
  {
   "cell_type": "code",
   "execution_count": 234,
   "metadata": {},
   "outputs": [
    {
     "data": {
      "text/plain": [
       "DatetimeIndex(['2017-01-03', '2017-01-04', '2017-01-05', '2017-01-06',\n",
       "               '2017-01-09', '2017-01-10', '2017-01-11', '2017-01-12',\n",
       "               '2017-01-13', '2017-01-17',\n",
       "               ...\n",
       "               '2019-12-17', '2019-12-18', '2019-12-19', '2019-12-20',\n",
       "               '2019-12-23', '2019-12-24', '2019-12-26', '2019-12-27',\n",
       "               '2019-12-30', '2019-12-31'],\n",
       "              dtype='datetime64[ns]', name='Date', length=754, freq=None)"
      ]
     },
     "execution_count": 234,
     "metadata": {},
     "output_type": "execute_result"
    }
   ],
   "source": [
    "dates"
   ]
  },
  {
   "cell_type": "code",
   "execution_count": 235,
   "metadata": {},
   "outputs": [
    {
     "data": {
      "text/plain": [
       "Text(0.5, 1.0, 'Amazon Stock Closing Price')"
      ]
     },
     "execution_count": 235,
     "metadata": {},
     "output_type": "execute_result"
    },
    {
     "data": {
      "image/png": "[encoded data removed]",
      "text/plain": [
       "<Figure size 1000x500 with 1 Axes>"
      ]
     },
     "metadata": {},
     "output_type": "display_data"
    }
   ],
   "source": [
    "plt.figure(figsize=(10, 5))\n",
    "df['Close'].plot()\n",
    "plt.ylabel('Close Price')\n",
    "plt.title('Amazon Stock Closing Price')\n"
   ]
  },
  {
   "cell_type": "markdown",
   "metadata": {},
   "source": [
    "#### a) Splitting the dataset"
   ]
  },
  {
   "cell_type": "code",
   "execution_count": 236,
   "metadata": {},
   "outputs": [
    {
     "name": "stdout",
     "output_type": "stream",
     "text": [
      "                Close\n",
      "Date                 \n",
      "2017-01-03  37.683498\n",
      "2017-01-04  37.859001\n",
      "2017-01-05  39.022499\n",
      "2017-01-06  39.799500\n",
      "2017-01-09  39.846001\n",
      "                 Open       High        Low\n",
      "Date                                       \n",
      "2017-01-03  37.896000  37.938000  37.384998\n",
      "2017-01-04  37.919498  37.984001  37.709999\n",
      "2017-01-05  38.077499  39.119999  38.013000\n",
      "2017-01-06  39.118000  39.972000  38.924000\n",
      "2017-01-09  39.900002  40.088501  39.588501\n"
     ]
    }
   ],
   "source": [
    "y = df[['Close']]\n",
    "X = df[['Open', 'High', 'Low']]\n",
    "\n",
    "print(y[:5])\n",
    "print(X[:5])"
   ]
  },
  {
   "cell_type": "code",
   "execution_count": 237,
   "metadata": {},
   "outputs": [],
   "source": [
    "from sklearn.model_selection import train_test_split\n",
    "\n",
    "# Split the data into training (70%), and a temporary set (30%) which will be split into two for the validation and test\n",
    "X_train, X_temp, y_train, y_temp = train_test_split(\n",
    "    X,\n",
    "    y,\n",
    "    test_size=0.3,\n",
    "    random_state=0\n",
    ")\n",
    "\n",
    "# Split the temporary set into validation (50%) and test (50%) sets, hence there will be a 15% validation, and 15 for testing.\n",
    "x_val, x_test, y_val, y_test = train_test_split (\n",
    "    X_temp,\n",
    "    y_temp,\n",
    "    test_size=0.5,\n",
    "    random_state=0\n",
    ")\n",
    "\n",
    "# Now we have X_train and y_train for training, x_val and y_val for validation, and  X_test and y_test for testing.\n"
   ]
  },
  {
   "cell_type": "markdown",
   "metadata": {},
   "source": [
    "#### b) Checking for Missing Values"
   ]
  },
  {
   "cell_type": "code",
   "execution_count": 238,
   "metadata": {},
   "outputs": [
    {
     "name": "stdout",
     "output_type": "stream",
     "text": [
      "There are zero missing values in the dataset\n"
     ]
    }
   ],
   "source": [
    "if df.isnull().any().any():\n",
    "    print('There are missing values in the dataset')\n",
    "else:\n",
    "    print(\"There are zero missing values in the dataset\")"
   ]
  },
  {
   "cell_type": "markdown",
   "metadata": {},
   "source": [
    "#### c) Encode any categorical features with One Hot Encoding"
   ]
  },
  {
   "cell_type": "markdown",
   "metadata": {},
   "source": [
    "In this data there weren't any categorical features."
   ]
  },
  {
   "cell_type": "markdown",
   "metadata": {},
   "source": [
    "#### d) Create a pipeline for preparing your data. Use your pipeline to clean and prepare both training and testing sets before training and evaluating a model."
   ]
  },
  {
   "cell_type": "code",
   "execution_count": 239,
   "metadata": {},
   "outputs": [],
   "source": [
    "from sklearn.compose import ColumnTransformer\n",
    "from sklearn.pipeline import Pipeline\n",
    "from sklearn.preprocessing import StandardScaler\n",
    "\n",
    "\n",
    "numeric_features = ['Open', 'High', 'Low']\n",
    "\n",
    "# Create a transformer for numerical features (just scaling in this case)\n",
    "numeric_transformer = Pipeline(steps=[\n",
    "    ('scaler', StandardScaler()) \n",
    "])\n",
    "\n",
    "# Combine transformers using ColumnTransformer (even though there's only one)\n",
    "preprocessor = ColumnTransformer(\n",
    "    transformers=[\n",
    "        ('num', numeric_transformer, numeric_features)\n",
    "    ])\n",
    "\n",
    "# Create the full pipeline without a model\n",
    "pipeline = Pipeline(steps=[('preprocessor', preprocessor)])\n",
    "\n",
    "# Fit the pipeline on the training data (only for data preparation)\n",
    "pipeline.fit(X_train)\n",
    "\n",
    "# Transform the training data\n",
    "X_train_transformed = pipeline.transform(X_train)\n",
    "\n",
    "# Transform the validation set\n",
    "X_val_transformed = pipeline.transform(x_val)\n",
    "\n",
    "# Transform the test set\n",
    "X_test_transformed = pipeline.transform(x_test)"
   ]
  },
  {
   "cell_type": "markdown",
   "metadata": {},
   "source": [
    "# Select, Train and evaluate a model"
   ]
  },
  {
   "cell_type": "markdown",
   "metadata": {},
   "source": [
    "#### a) Choose a non-neural net baseline method (e.g. Random forest, KNN, Logistic regression, ...)."
   ]
  },
  {
   "cell_type": "code",
   "execution_count": 240,
   "metadata": {},
   "outputs": [],
   "source": [
    "model1 = linear_model.LinearRegression()"
   ]
  },
  {
   "cell_type": "markdown",
   "metadata": {},
   "source": [
    "#### b) Design an appropriate neural net for your problem."
   ]
  },
  {
   "cell_type": "code",
   "execution_count": 241,
   "metadata": {},
   "outputs": [],
   "source": [
    "import tensorflow as tf"
   ]
  },
  {
   "cell_type": "code",
   "execution_count": 247,
   "metadata": {},
   "outputs": [],
   "source": [
    "\n",
    "model2 = tf.keras.models.Sequential([\n",
    "    tf.keras.layers.Dense(64, activation='relu', input_shape=(3,)),\n",
    "    tf.keras.layers.Dense(64, activation='relu'),\n",
    "   tf.keras.layers.Dense(64, activation='relu'),\n",
    "   tf.keras.layers.Dense(128, activation='relu'),\n",
    "   \n",
    "   tf.keras.layers.Dense(1)\n",
    "])\n",
    "\n",
    "\n",
    "#model2=tf.keras.models.Sequential([ \n",
    "#    tf.keras.layers.LSTM(64, activation='relu', input_shape=(None, 3), return_sequences=True),\n",
    "#   tf.keras.layers.LSTM(64, activation='relu', return_sequences=True),\n",
    "#    tf.keras.layers.LSTM(64, activation='relu', return_sequences=True),\n",
    "#    tf.keras.layers.LSTM(128, activation='relu'),\n",
    "#    tf.keras.layers.Dense(1)])"
   ]
  },
  {
   "cell_type": "markdown",
   "metadata": {},
   "source": [
    "#### c) Train both models (baseline and neural net) on the entire training dataset. Remember to recreate your models before final training."
   ]
  },
  {
   "cell_type": "markdown",
   "metadata": {},
   "source": [
    "Non Neural Network Approach"
   ]
  },
  {
   "cell_type": "code",
   "execution_count": 248,
   "metadata": {},
   "outputs": [
    {
     "name": "stdout",
     "output_type": "stream",
     "text": [
      "Linear Regression - Root Mean Squared Error on Training Set: 0.42\n"
     ]
    }
   ],
   "source": [
    "# Non-Neural net baseline Method\n",
    "\n",
    "model1.fit(X_train, y_train)\n",
    "\n",
    "# Predict on the training set\n",
    "y_pred1 = model1.predict(X_train)\n",
    "\n",
    "# Evaluate the linear regression model on the training set\n",
    "mse1 = mean_squared_error(y_train, y_pred1)\n",
    "rmse1 = np.sqrt(mse1)\n",
    "print(f'Linear Regression - Root Mean Squared Error on Training Set: {rmse1:.2f}')\n"
   ]
  },
  {
   "cell_type": "markdown",
   "metadata": {},
   "source": [
    "Neural Network Approach"
   ]
  },
  {
   "cell_type": "code",
   "execution_count": 249,
   "metadata": {},
   "outputs": [],
   "source": [
    "model2.compile(\n",
    "    loss='mean_squared_error', \n",
    "    optimizer=tf.keras.optimizers.legacy.Adam(0.001))"
   ]
  },
  {
   "cell_type": "code",
   "execution_count": 251,
   "metadata": {},
   "outputs": [
    {
     "name": "stdout",
     "output_type": "stream",
     "text": [
      "17/17 [==============================] - 0s 563us/step\n",
      "Neural Network - Root Mean Squared Error on Training Set: 0.52\n"
     ]
    }
   ],
   "source": [
    "history = model2.fit(\n",
    "    X_train_transformed, y_train,epochs=120, batch_size=100, verbose=0, validation_data=(X_val_transformed, y_val))\n",
    "\n",
    "# Predict on the training set\n",
    "y_pred2 = model2.predict(X_train_transformed)\n",
    "\n",
    "#Evaluate the neural network model on the training set\n",
    "mse2 = mean_squared_error(y_train, y_pred2)\n",
    "rmse2 = np.sqrt(mse2)\n",
    "print(f'Neural Network - Root Mean Squared Error on Training Set: {rmse2:.2f}')\n"
   ]
  },
  {
   "cell_type": "code",
   "execution_count": 254,
   "metadata": {},
   "outputs": [
    {
     "data": {
      "image/png": "[encoded data removed]",
      "text/plain": [
       "<Figure size 640x480 with 1 Axes>"
      ]
     },
     "metadata": {},
     "output_type": "display_data"
    }
   ],
   "source": [
    "# Plot the training and validation loss\n",
    "plt.plot(history.history['loss'], label='Training Loss')\n",
    "plt.plot(history.history['val_loss'], label='Validation Loss')\n",
    "plt.xlabel('Epochs')\n",
    "plt.ylabel('Loss')\n",
    "plt.legend()\n",
    "plt.show()"
   ]
  },
  {
   "cell_type": "code",
   "execution_count": 255,
   "metadata": {},
   "outputs": [
    {
     "name": "stdout",
     "output_type": "stream",
     "text": [
      "Linear Regression - Root Mean Squared Error on Test Set: 0.53\n"
     ]
    }
   ],
   "source": [
    "y_pred1_test = model1.predict(x_test)\n",
    "\n",
    "# Evaluate the linear regression model on the test set\n",
    "mse1_test = mean_squared_error(y_test, y_pred1_test)\n",
    "rmse1_test = np.sqrt(mse1_test)\n",
    "print(f'Linear Regression - Root Mean Squared Error on Test Set: {rmse1_test:.2f}')"
   ]
  },
  {
   "cell_type": "code",
   "execution_count": 256,
   "metadata": {},
   "outputs": [
    {
     "name": "stdout",
     "output_type": "stream",
     "text": [
      "4/4 [==============================] - 0s 1ms/step\n",
      "Neural Network - Root Mean Squared Error on Test Set: 0.61\n"
     ]
    }
   ],
   "source": [
    "# Predict on the test set\n",
    "y_pred2_test = model2.predict(X_test_transformed)\n",
    "\n",
    "# Evaluate the neural network model on the test set\n",
    "mse2_test = mean_squared_error(y_test, y_pred2_test)\n",
    "rmse2_test = np.sqrt(mse2_test)\n",
    "print(f'Neural Network - Root Mean Squared Error on Test Set: {rmse2_test:.2f}')"
   ]
  },
  {
   "cell_type": "code",
   "execution_count": 257,
   "metadata": {},
   "outputs": [
    {
     "data": {
      "text/html": [
       "<div>\n",
       "<style scoped>\n",
       "    .dataframe tbody tr th:only-of-type {\n",
       "        vertical-align: middle;\n",
       "    }\n",
       "\n",
       "    .dataframe tbody tr th {\n",
       "        vertical-align: top;\n",
       "    }\n",
       "\n",
       "    .dataframe thead th {\n",
       "        text-align: right;\n",
       "    }\n",
       "</style>\n",
       "<table border=\"1\" class=\"dataframe\">\n",
       "  <thead>\n",
       "    <tr style=\"text-align: right;\">\n",
       "      <th></th>\n",
       "      <th>Actual Closing Price</th>\n",
       "      <th>Predicted Closing Price</th>\n",
       "    </tr>\n",
       "  </thead>\n",
       "  <tbody>\n",
       "    <tr>\n",
       "      <th>0</th>\n",
       "      <td>42.626499</td>\n",
       "      <td>42.756649</td>\n",
       "    </tr>\n",
       "    <tr>\n",
       "      <th>1</th>\n",
       "      <td>41.519001</td>\n",
       "      <td>41.954254</td>\n",
       "    </tr>\n",
       "    <tr>\n",
       "      <th>2</th>\n",
       "      <td>95.909500</td>\n",
       "      <td>95.596832</td>\n",
       "    </tr>\n",
       "    <tr>\n",
       "      <th>3</th>\n",
       "      <td>83.209999</td>\n",
       "      <td>84.523430</td>\n",
       "    </tr>\n",
       "    <tr>\n",
       "      <th>4</th>\n",
       "      <td>93.338997</td>\n",
       "      <td>93.105164</td>\n",
       "    </tr>\n",
       "    <tr>\n",
       "      <th>5</th>\n",
       "      <td>93.483498</td>\n",
       "      <td>93.280792</td>\n",
       "    </tr>\n",
       "    <tr>\n",
       "      <th>6</th>\n",
       "      <td>87.024002</td>\n",
       "      <td>87.293510</td>\n",
       "    </tr>\n",
       "    <tr>\n",
       "      <th>7</th>\n",
       "      <td>48.294998</td>\n",
       "      <td>49.025143</td>\n",
       "    </tr>\n",
       "    <tr>\n",
       "      <th>8</th>\n",
       "      <td>86.511002</td>\n",
       "      <td>86.556190</td>\n",
       "    </tr>\n",
       "    <tr>\n",
       "      <th>9</th>\n",
       "      <td>78.484001</td>\n",
       "      <td>78.893982</td>\n",
       "    </tr>\n",
       "  </tbody>\n",
       "</table>\n",
       "</div>"
      ],
      "text/plain": [
       "   Actual Closing Price  Predicted Closing Price\n",
       "0             42.626499                42.756649\n",
       "1             41.519001                41.954254\n",
       "2             95.909500                95.596832\n",
       "3             83.209999                84.523430\n",
       "4             93.338997                93.105164\n",
       "5             93.483498                93.280792\n",
       "6             87.024002                87.293510\n",
       "7             48.294998                49.025143\n",
       "8             86.511002                86.556190\n",
       "9             78.484001                78.893982"
      ]
     },
     "execution_count": 257,
     "metadata": {},
     "output_type": "execute_result"
    }
   ],
   "source": [
    "\n",
    "\n",
    "#num_samples_to_display = 10  # Adjust the number of samples to display as needed\n",
    "\n",
    "actual_and_predicted = pd.DataFrame({\n",
    "    'Actual Closing Price': y_test['Close'].head(10).values,\n",
    "    'Predicted Closing Price': y_pred2_test.flatten().astype(float)[:10]\n",
    "})\n",
    "\n",
    "actual_and_predicted"
   ]
  },
  {
   "cell_type": "code",
   "execution_count": 258,
   "metadata": {},
   "outputs": [
    {
     "data": {
      "image/png": "[encoded data removed]",
      "text/plain": [
       "<Figure size 640x480 with 1 Axes>"
      ]
     },
     "metadata": {},
     "output_type": "display_data"
    }
   ],
   "source": [
    "plt.subplot(1, 2, 2)  # Subplot for RMSE\n",
    "plt.bar(['Linear Regression', 'Neural Network'], [rmse1_test, rmse2_test], color=['green', 'teal'])\n",
    "plt.ylabel('RMSE')\n",
    "\n",
    "plt.tight_layout()\n",
    "plt.show()"
   ]
  },
  {
   "cell_type": "code",
   "execution_count": 259,
   "metadata": {},
   "outputs": [
    {
     "name": "stdout",
     "output_type": "stream",
     "text": [
      "Model: \"sequential_16\"\n",
      "_________________________________________________________________\n",
      " Layer (type)                Output Shape              Param #   \n",
      "=================================================================\n",
      " dense_60 (Dense)            (None, 64)                256       \n",
      "                                                                 \n",
      " dense_61 (Dense)            (None, 64)                4160      \n",
      "                                                                 \n",
      " dense_62 (Dense)            (None, 64)                4160      \n",
      "                                                                 \n",
      " dense_63 (Dense)            (None, 128)               8320      \n",
      "                                                                 \n",
      " dense_64 (Dense)            (None, 1)                 129       \n",
      "                                                                 \n",
      "=================================================================\n",
      "Total params: 17,025\n",
      "Trainable params: 17,025\n",
      "Non-trainable params: 0\n",
      "_________________________________________________________________\n"
     ]
    }
   ],
   "source": [
    "model2.summary()"
   ]
  },
  {
   "cell_type": "markdown",
   "metadata": {},
   "source": [
    "#### e) Remark on the results. Which seemed to perform best? Was there a clear winner?"
   ]
  },
  {
   "cell_type": "markdown",
   "metadata": {},
   "source": [
    "In our results we were able to graph the difference between the rmse for the linear regression and the rmse for the neural networks. The common trend so far, is that the neural networks has been doing better than the linear regression. In this particular run we see that the neural networks does a little better than the linear regression. It wasn't a clear winner, it won by 0.3.   "
   ]
  },
  {
   "cell_type": "markdown",
   "metadata": {},
   "source": [
    "# Future Work Based on what you have learned from your results"
   ]
  },
  {
   "cell_type": "markdown",
   "metadata": {},
   "source": [
    "###  what would you try next if you had more time? How would you try to improve these results."
   ]
  },
  {
   "cell_type": "markdown",
   "metadata": {},
   "source": [
    "If we had more time, we would attempt to apply a deep learning approach to the code. This would insure that it is constantly learning and improving and would affect the following areas: Complex pattern assessment, feature learning, regularization, improved learning rate, and the training duration. We would also want to understand the code better and find ways to use this at a wider rate for different stocks. Personally (Kato), I would be interested to see if I could have it updated on a regular basis automatically. Personally(Jordan) this would help me understand stocks better and give me a better sense on how the stock market moves.\n"
   ]
  }
 ],
 "metadata": {
  "kernelspec": {
   "display_name": "Python 3",
   "language": "python",
   "name": "python3"
  },
  "language_info": {
   "codemirror_mode": {
    "name": "ipython",
    "version": 3
   },
   "file_extension": ".py",
   "mimetype": "text/x-python",
   "name": "python",
   "nbconvert_exporter": "python",
   "pygments_lexer": "ipython3",
   "version": "3.11.5"
  }
 },
 "nbformat": 4,
 "nbformat_minor": 2
}
