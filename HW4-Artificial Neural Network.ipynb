{
 "cells": [
  {
   "cell_type": "markdown",
   "metadata": {},
   "source": [
    "Test your network with different numbers of layers and neurons and present the best result found.\n",
    "\n",
    "Describe the problem that you have chosen.\n",
    "\n",
    "1. If possible, provide a link (kaggle?) with details on the problem/dataset.\n",
    "2. What is the input? What is the output?\n",
    "3. What type of problem is this?\n",
    "4. What are the features or attributes that you will use from the dataset.\n",
    "5. What is your evaluation metric? Accuracy? RMSE? MAE? Recall/Precision?"
   ]
  },
  {
   "cell_type": "markdown",
   "metadata": {},
   "source": [
    "# Creating the dataset\n"
   ]
  },
  {
   "cell_type": "code",
<<<<<<< HEAD
   "execution_count": 13,
=======
   "execution_count": 8,
>>>>>>> ef71264e7a840c00e0fcf257724273fe73f9d111
   "metadata": {},
   "outputs": [
    {
     "name": "stdout",
     "output_type": "stream",
     "text": [
      "Requirement already satisfied: yfinance in /opt/homebrew/lib/python3.11/site-packages (0.2.32)\n",
      "Requirement already satisfied: pandas>=1.3.0 in /opt/homebrew/lib/python3.11/site-packages (from yfinance) (2.1.3)\n",
      "Requirement already satisfied: numpy>=1.16.5 in /opt/homebrew/lib/python3.11/site-packages (from yfinance) (1.26.2)\n",
      "Requirement already satisfied: requests>=2.31 in /opt/homebrew/lib/python3.11/site-packages (from yfinance) (2.31.0)\n",
      "Requirement already satisfied: multitasking>=0.0.7 in /opt/homebrew/lib/python3.11/site-packages (from yfinance) (0.0.11)\n",
      "Requirement already satisfied: lxml>=4.9.1 in /opt/homebrew/lib/python3.11/site-packages (from yfinance) (4.9.3)\n",
      "Requirement already satisfied: appdirs>=1.4.4 in /opt/homebrew/lib/python3.11/site-packages (from yfinance) (1.4.4)\n",
      "Requirement already satisfied: pytz>=2022.5 in /opt/homebrew/lib/python3.11/site-packages (from yfinance) (2023.3.post1)\n",
      "Requirement already satisfied: frozendict>=2.3.4 in /opt/homebrew/lib/python3.11/site-packages (from yfinance) (2.3.9)\n",
      "Requirement already satisfied: peewee>=3.16.2 in /opt/homebrew/lib/python3.11/site-packages (from yfinance) (3.17.0)\n",
      "Requirement already satisfied: beautifulsoup4>=4.11.1 in /opt/homebrew/lib/python3.11/site-packages (from yfinance) (4.12.2)\n",
      "Requirement already satisfied: html5lib>=1.1 in /opt/homebrew/lib/python3.11/site-packages (from yfinance) (1.1)\n",
      "Requirement already satisfied: soupsieve>1.2 in /opt/homebrew/lib/python3.11/site-packages (from beautifulsoup4>=4.11.1->yfinance) (2.5)\n",
      "Requirement already satisfied: six>=1.9 in /Users/jordansark/Library/Python/3.11/lib/python/site-packages (from html5lib>=1.1->yfinance) (1.16.0)\n",
      "Requirement already satisfied: webencodings in /opt/homebrew/lib/python3.11/site-packages (from html5lib>=1.1->yfinance) (0.5.1)\n",
      "Requirement already satisfied: python-dateutil>=2.8.2 in /Users/jordansark/Library/Python/3.11/lib/python/site-packages (from pandas>=1.3.0->yfinance) (2.8.2)\n",
      "Requirement already satisfied: tzdata>=2022.1 in /opt/homebrew/lib/python3.11/site-packages (from pandas>=1.3.0->yfinance) (2023.3)\n",
      "Requirement already satisfied: charset-normalizer<4,>=2 in /opt/homebrew/lib/python3.11/site-packages (from requests>=2.31->yfinance) (3.3.2)\n",
      "Requirement already satisfied: idna<4,>=2.5 in /opt/homebrew/lib/python3.11/site-packages (from requests>=2.31->yfinance) (3.6)\n",
      "Requirement already satisfied: urllib3<3,>=1.21.1 in /opt/homebrew/lib/python3.11/site-packages (from requests>=2.31->yfinance) (2.1.0)\n",
      "Requirement already satisfied: certifi>=2017.4.17 in /opt/homebrew/lib/python3.11/site-packages (from requests>=2.31->yfinance) (2023.11.17)\n",
      "\n",
      "\u001b[1m[\u001b[0m\u001b[34;49mnotice\u001b[0m\u001b[1;39;49m]\u001b[0m\u001b[39;49m A new release of pip is available: \u001b[0m\u001b[31;49m23.2.1\u001b[0m\u001b[39;49m -> \u001b[0m\u001b[32;49m23.3.1\u001b[0m\n",
      "\u001b[1m[\u001b[0m\u001b[34;49mnotice\u001b[0m\u001b[1;39;49m]\u001b[0m\u001b[39;49m To update, run: \u001b[0m\u001b[32;49mpython3.11 -m pip install --upgrade pip\u001b[0m\n",
      "Note: you may need to restart the kernel to use updated packages.\n",
      "Requirement already satisfied: numpy in /opt/homebrew/lib/python3.11/site-packages (1.26.2)\n",
      "\n",
      "\u001b[1m[\u001b[0m\u001b[34;49mnotice\u001b[0m\u001b[1;39;49m]\u001b[0m\u001b[39;49m A new release of pip is available: \u001b[0m\u001b[31;49m23.2.1\u001b[0m\u001b[39;49m -> \u001b[0m\u001b[32;49m23.3.1\u001b[0m\n",
      "\u001b[1m[\u001b[0m\u001b[34;49mnotice\u001b[0m\u001b[1;39;49m]\u001b[0m\u001b[39;49m To update, run: \u001b[0m\u001b[32;49mpython3.11 -m pip install --upgrade pip\u001b[0m\n",
      "Note: you may need to restart the kernel to use updated packages.\n",
      "Requirement already satisfied: pandas in /opt/homebrew/lib/python3.11/site-packages (2.1.3)\n",
      "Requirement already satisfied: numpy<2,>=1.23.2 in /opt/homebrew/lib/python3.11/site-packages (from pandas) (1.26.2)\n",
      "Requirement already satisfied: python-dateutil>=2.8.2 in /Users/jordansark/Library/Python/3.11/lib/python/site-packages (from pandas) (2.8.2)\n",
      "Requirement already satisfied: pytz>=2020.1 in /opt/homebrew/lib/python3.11/site-packages (from pandas) (2023.3.post1)\n",
      "Requirement already satisfied: tzdata>=2022.1 in /opt/homebrew/lib/python3.11/site-packages (from pandas) (2023.3)\n",
      "Requirement already satisfied: six>=1.5 in /Users/jordansark/Library/Python/3.11/lib/python/site-packages (from python-dateutil>=2.8.2->pandas) (1.16.0)\n",
      "\n",
      "\u001b[1m[\u001b[0m\u001b[34;49mnotice\u001b[0m\u001b[1;39;49m]\u001b[0m\u001b[39;49m A new release of pip is available: \u001b[0m\u001b[31;49m23.2.1\u001b[0m\u001b[39;49m -> \u001b[0m\u001b[32;49m23.3.1\u001b[0m\n",
      "\u001b[1m[\u001b[0m\u001b[34;49mnotice\u001b[0m\u001b[1;39;49m]\u001b[0m\u001b[39;49m To update, run: \u001b[0m\u001b[32;49mpython3.11 -m pip install --upgrade pip\u001b[0m\n",
      "Note: you may need to restart the kernel to use updated packages.\n",
      "Requirement already satisfied: matplotlib in /opt/homebrew/lib/python3.11/site-packages (3.8.2)\n",
      "Requirement already satisfied: contourpy>=1.0.1 in /opt/homebrew/lib/python3.11/site-packages (from matplotlib) (1.2.0)\n",
      "Requirement already satisfied: cycler>=0.10 in /opt/homebrew/lib/python3.11/site-packages (from matplotlib) (0.12.1)\n",
      "Requirement already satisfied: fonttools>=4.22.0 in /opt/homebrew/lib/python3.11/site-packages (from matplotlib) (4.45.1)\n",
      "Requirement already satisfied: kiwisolver>=1.3.1 in /opt/homebrew/lib/python3.11/site-packages (from matplotlib) (1.4.5)\n",
      "Requirement already satisfied: numpy<2,>=1.21 in /opt/homebrew/lib/python3.11/site-packages (from matplotlib) (1.26.2)\n",
      "Requirement already satisfied: packaging>=20.0 in /Users/jordansark/Library/Python/3.11/lib/python/site-packages (from matplotlib) (23.1)\n",
      "Requirement already satisfied: pillow>=8 in /opt/homebrew/lib/python3.11/site-packages (from matplotlib) (10.1.0)\n",
      "Requirement already satisfied: pyparsing>=2.3.1 in /opt/homebrew/lib/python3.11/site-packages (from matplotlib) (3.1.1)\n",
      "Requirement already satisfied: python-dateutil>=2.7 in /Users/jordansark/Library/Python/3.11/lib/python/site-packages (from matplotlib) (2.8.2)\n",
      "Requirement already satisfied: six>=1.5 in /Users/jordansark/Library/Python/3.11/lib/python/site-packages (from python-dateutil>=2.7->matplotlib) (1.16.0)\n",
      "\n",
      "\u001b[1m[\u001b[0m\u001b[34;49mnotice\u001b[0m\u001b[1;39;49m]\u001b[0m\u001b[39;49m A new release of pip is available: \u001b[0m\u001b[31;49m23.2.1\u001b[0m\u001b[39;49m -> \u001b[0m\u001b[32;49m23.3.1\u001b[0m\n",
      "\u001b[1m[\u001b[0m\u001b[34;49mnotice\u001b[0m\u001b[1;39;49m]\u001b[0m\u001b[39;49m To update, run: \u001b[0m\u001b[32;49mpython3.11 -m pip install --upgrade pip\u001b[0m\n",
      "Note: you may need to restart the kernel to use updated packages.\n",
      "Requirement already satisfied: pandas_datareader in /opt/homebrew/lib/python3.11/site-packages (0.10.0)\n",
      "Requirement already satisfied: lxml in /opt/homebrew/lib/python3.11/site-packages (from pandas_datareader) (4.9.3)\n",
      "Requirement already satisfied: pandas>=0.23 in /opt/homebrew/lib/python3.11/site-packages (from pandas_datareader) (2.1.3)\n",
      "Requirement already satisfied: requests>=2.19.0 in /opt/homebrew/lib/python3.11/site-packages (from pandas_datareader) (2.31.0)\n",
      "Requirement already satisfied: numpy<2,>=1.23.2 in /opt/homebrew/lib/python3.11/site-packages (from pandas>=0.23->pandas_datareader) (1.26.2)\n",
      "Requirement already satisfied: python-dateutil>=2.8.2 in /Users/jordansark/Library/Python/3.11/lib/python/site-packages (from pandas>=0.23->pandas_datareader) (2.8.2)\n",
      "Requirement already satisfied: pytz>=2020.1 in /opt/homebrew/lib/python3.11/site-packages (from pandas>=0.23->pandas_datareader) (2023.3.post1)\n",
      "Requirement already satisfied: tzdata>=2022.1 in /opt/homebrew/lib/python3.11/site-packages (from pandas>=0.23->pandas_datareader) (2023.3)\n",
      "Requirement already satisfied: charset-normalizer<4,>=2 in /opt/homebrew/lib/python3.11/site-packages (from requests>=2.19.0->pandas_datareader) (3.3.2)\n",
      "Requirement already satisfied: idna<4,>=2.5 in /opt/homebrew/lib/python3.11/site-packages (from requests>=2.19.0->pandas_datareader) (3.6)\n",
      "Requirement already satisfied: urllib3<3,>=1.21.1 in /opt/homebrew/lib/python3.11/site-packages (from requests>=2.19.0->pandas_datareader) (2.1.0)\n",
      "Requirement already satisfied: certifi>=2017.4.17 in /opt/homebrew/lib/python3.11/site-packages (from requests>=2.19.0->pandas_datareader) (2023.11.17)\n",
      "Requirement already satisfied: six>=1.5 in /Users/jordansark/Library/Python/3.11/lib/python/site-packages (from python-dateutil>=2.8.2->pandas>=0.23->pandas_datareader) (1.16.0)\n",
      "\n",
      "\u001b[1m[\u001b[0m\u001b[34;49mnotice\u001b[0m\u001b[1;39;49m]\u001b[0m\u001b[39;49m A new release of pip is available: \u001b[0m\u001b[31;49m23.2.1\u001b[0m\u001b[39;49m -> \u001b[0m\u001b[32;49m23.3.1\u001b[0m\n",
      "\u001b[1m[\u001b[0m\u001b[34;49mnotice\u001b[0m\u001b[1;39;49m]\u001b[0m\u001b[39;49m To update, run: \u001b[0m\u001b[32;49mpython3.11 -m pip install --upgrade pip\u001b[0m\n",
      "Note: you may need to restart the kernel to use updated packages.\n"
     ]
    }
   ],
   "source": [
    "%pip install yfinance\n",
    "%pip install numpy\n",
    "%pip install pandas\n",
    "%pip install matplotlib\n",
    "%pip install pandas_datareader\n",
    "import numpy as np\n",
    "import pandas as pd\n",
    "\n",
    "\n",
    "import matplotlib.pyplot as plt\n",
    "\n",
    "import pandas_datareader as data_reader\n",
    "import yfinance as yf\n",
    "from pandas_datareader import data as pdr\n",
    "\n",
    "yf.pdr_override()"
   ]
  },
  {
   "cell_type": "code",
<<<<<<< HEAD
   "execution_count": 14,
=======
   "execution_count": 9,
>>>>>>> ef71264e7a840c00e0fcf257724273fe73f9d111
   "metadata": {},
   "outputs": [
    {
     "name": "stdout",
     "output_type": "stream",
     "text": [
      "[*********************100%%**********************]  1 of 1 completed\n"
     ]
    }
   ],
   "source": [
    "df = pdr.get_data_yahoo(\"AMZN\", start=\"2019-01-01\", end=\"2020-01-01\")"
   ]
  },
  {
   "cell_type": "code",
<<<<<<< HEAD
   "execution_count": 15,
=======
   "execution_count": 10,
>>>>>>> ef71264e7a840c00e0fcf257724273fe73f9d111
   "metadata": {},
   "outputs": [
    {
     "data": {
      "text/html": [
       "<div>\n",
       "<style scoped>\n",
       "    .dataframe tbody tr th:only-of-type {\n",
       "        vertical-align: middle;\n",
       "    }\n",
       "\n",
       "    .dataframe tbody tr th {\n",
       "        vertical-align: top;\n",
       "    }\n",
       "\n",
       "    .dataframe thead th {\n",
       "        text-align: right;\n",
       "    }\n",
       "</style>\n",
       "<table border=\"1\" class=\"dataframe\">\n",
       "  <thead>\n",
       "    <tr style=\"text-align: right;\">\n",
       "      <th></th>\n",
       "      <th>Open</th>\n",
       "      <th>High</th>\n",
       "      <th>Low</th>\n",
       "      <th>Close</th>\n",
       "      <th>Adj Close</th>\n",
       "      <th>Volume</th>\n",
       "    </tr>\n",
       "    <tr>\n",
       "      <th>Date</th>\n",
       "      <th></th>\n",
       "      <th></th>\n",
       "      <th></th>\n",
       "      <th></th>\n",
       "      <th></th>\n",
       "      <th></th>\n",
       "    </tr>\n",
       "  </thead>\n",
       "  <tbody>\n",
       "    <tr>\n",
       "      <th>2019-01-02</th>\n",
       "      <td>73.260002</td>\n",
       "      <td>77.667999</td>\n",
       "      <td>73.046501</td>\n",
       "      <td>76.956497</td>\n",
       "      <td>76.956497</td>\n",
       "      <td>159662000</td>\n",
       "    </tr>\n",
       "    <tr>\n",
       "      <th>2019-01-03</th>\n",
       "      <td>76.000504</td>\n",
       "      <td>76.900002</td>\n",
       "      <td>74.855499</td>\n",
       "      <td>75.014000</td>\n",
       "      <td>75.014000</td>\n",
       "      <td>139512000</td>\n",
       "    </tr>\n",
       "    <tr>\n",
       "      <th>2019-01-04</th>\n",
       "      <td>76.500000</td>\n",
       "      <td>79.699997</td>\n",
       "      <td>75.915497</td>\n",
       "      <td>78.769501</td>\n",
       "      <td>78.769501</td>\n",
       "      <td>183652000</td>\n",
       "    </tr>\n",
       "    <tr>\n",
       "      <th>2019-01-07</th>\n",
       "      <td>80.115501</td>\n",
       "      <td>81.727997</td>\n",
       "      <td>79.459503</td>\n",
       "      <td>81.475502</td>\n",
       "      <td>81.475502</td>\n",
       "      <td>159864000</td>\n",
       "    </tr>\n",
       "    <tr>\n",
       "      <th>2019-01-08</th>\n",
       "      <td>83.234497</td>\n",
       "      <td>83.830498</td>\n",
       "      <td>80.830498</td>\n",
       "      <td>82.829002</td>\n",
       "      <td>82.829002</td>\n",
       "      <td>177628000</td>\n",
       "    </tr>\n",
       "    <tr>\n",
       "      <th>...</th>\n",
       "      <td>...</td>\n",
       "      <td>...</td>\n",
       "      <td>...</td>\n",
       "      <td>...</td>\n",
       "      <td>...</td>\n",
       "      <td>...</td>\n",
       "    </tr>\n",
       "    <tr>\n",
       "      <th>2019-12-24</th>\n",
       "      <td>89.690498</td>\n",
       "      <td>89.778503</td>\n",
       "      <td>89.378998</td>\n",
       "      <td>89.460503</td>\n",
       "      <td>89.460503</td>\n",
       "      <td>17626000</td>\n",
       "    </tr>\n",
       "    <tr>\n",
       "      <th>2019-12-26</th>\n",
       "      <td>90.050499</td>\n",
       "      <td>93.523003</td>\n",
       "      <td>89.974998</td>\n",
       "      <td>93.438499</td>\n",
       "      <td>93.438499</td>\n",
       "      <td>120108000</td>\n",
       "    </tr>\n",
       "    <tr>\n",
       "      <th>2019-12-27</th>\n",
       "      <td>94.146004</td>\n",
       "      <td>95.070000</td>\n",
       "      <td>93.300499</td>\n",
       "      <td>93.489998</td>\n",
       "      <td>93.489998</td>\n",
       "      <td>123732000</td>\n",
       "    </tr>\n",
       "    <tr>\n",
       "      <th>2019-12-30</th>\n",
       "      <td>93.699997</td>\n",
       "      <td>94.199997</td>\n",
       "      <td>92.030998</td>\n",
       "      <td>92.344498</td>\n",
       "      <td>92.344498</td>\n",
       "      <td>73494000</td>\n",
       "    </tr>\n",
       "    <tr>\n",
       "      <th>2019-12-31</th>\n",
       "      <td>92.099998</td>\n",
       "      <td>92.663002</td>\n",
       "      <td>91.611504</td>\n",
       "      <td>92.391998</td>\n",
       "      <td>92.391998</td>\n",
       "      <td>50130000</td>\n",
       "    </tr>\n",
       "  </tbody>\n",
       "</table>\n",
       "<p>252 rows × 6 columns</p>\n",
       "</div>"
      ],
      "text/plain": [
       "                 Open       High        Low      Close  Adj Close     Volume\n",
       "Date                                                                        \n",
       "2019-01-02  73.260002  77.667999  73.046501  76.956497  76.956497  159662000\n",
       "2019-01-03  76.000504  76.900002  74.855499  75.014000  75.014000  139512000\n",
       "2019-01-04  76.500000  79.699997  75.915497  78.769501  78.769501  183652000\n",
       "2019-01-07  80.115501  81.727997  79.459503  81.475502  81.475502  159864000\n",
       "2019-01-08  83.234497  83.830498  80.830498  82.829002  82.829002  177628000\n",
       "...               ...        ...        ...        ...        ...        ...\n",
       "2019-12-24  89.690498  89.778503  89.378998  89.460503  89.460503   17626000\n",
       "2019-12-26  90.050499  93.523003  89.974998  93.438499  93.438499  120108000\n",
       "2019-12-27  94.146004  95.070000  93.300499  93.489998  93.489998  123732000\n",
       "2019-12-30  93.699997  94.199997  92.030998  92.344498  92.344498   73494000\n",
       "2019-12-31  92.099998  92.663002  91.611504  92.391998  92.391998   50130000\n",
       "\n",
       "[252 rows x 6 columns]"
      ]
     },
<<<<<<< HEAD
     "execution_count": 15,
=======
     "execution_count": 10,
>>>>>>> ef71264e7a840c00e0fcf257724273fe73f9d111
     "metadata": {},
     "output_type": "execute_result"
    }
   ],
   "source": [
    "df"
   ]
  },
  {
   "cell_type": "code",
<<<<<<< HEAD
   "execution_count": 16,
   "metadata": {},
   "outputs": [],
   "source": [
    "df = df.reset_index()"
   ]
  },
  {
   "cell_type": "code",
   "execution_count": 17,
=======
   "execution_count": 11,
>>>>>>> ef71264e7a840c00e0fcf257724273fe73f9d111
   "metadata": {},
   "outputs": [
    {
     "data": {
      "text/plain": [
       "<Axes: xlabel='Date'>"
      ]
     },
<<<<<<< HEAD
     "execution_count": 17,
=======
     "execution_count": 11,
>>>>>>> ef71264e7a840c00e0fcf257724273fe73f9d111
     "metadata": {},
     "output_type": "execute_result"
    },
    {
     "data": {
      "image/png": "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",
      "text/plain": [
       "<Figure size 1000x500 with 1 Axes>"
      ]
     },
     "metadata": {},
     "output_type": "display_data"
    }
   ],
   "source": [
    "plt.figure(figsize=(10, 5))\n",
    "df['Close'].plot()"
   ]
  },
  {
   "cell_type": "code",
   "execution_count": null,
   "metadata": {},
   "outputs": [],
   "source": [
    "print(\"Hello Kato\")"
   ]
  }
 ],
 "metadata": {
  "kernelspec": {
   "display_name": "Python 3",
   "language": "python",
   "name": "python3"
  },
  "language_info": {
   "codemirror_mode": {
    "name": "ipython",
    "version": 3
   },
   "file_extension": ".py",
   "mimetype": "text/x-python",
   "name": "python",
   "nbconvert_exporter": "python",
   "pygments_lexer": "ipython3",
<<<<<<< HEAD
   "version": "3.11.6"
=======
   "version": "3.9.5"
>>>>>>> ef71264e7a840c00e0fcf257724273fe73f9d111
  }
 },
 "nbformat": 4,
 "nbformat_minor": 2
}
