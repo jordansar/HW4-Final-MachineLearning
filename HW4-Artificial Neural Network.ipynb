{
 "cells": [
  {
   "cell_type": "markdown",
   "metadata": {},
   "source": [
    "Test your network with different numbers of layers and neurons and present the best result found.\n",
    "\n",
    "Describe the problem that you have chosen.\n",
    "\n",
    "1. If possible, provide a link (kaggle?) with details on the problem/dataset.\n",
    "2. What is the input? What is the output?\n",
    "3. What type of problem is this?\n",
    "4. What are the features or attributes that you will use from the dataset.\n",
    "5. What is your evaluation metric? Accuracy? RMSE? MAE? Recall/Precision?"
   ]
  },
  {
   "cell_type": "markdown",
   "metadata": {},
   "source": [
    "# Creating the dataset\n"
   ]
  },
  {
   "cell_type": "code",
   "execution_count": 8,
   "metadata": {},
   "outputs": [],
   "source": [
    "import numpy as np\n",
    "import pandas as pd\n",
    "\n",
    "import matplotlib.pyplot as plt\n",
    "\n",
    "import pandas_datareader as data_reader\n",
    "import yfinance as yf\n",
    "from pandas_datareader import data as pdr\n",
    "from sklearn import linear_model\n",
    "from sklearn.metrics import mean_squared_error, r2_score\n",
    "\n",
    "yf.pdr_override()"
   ]
  },
  {
   "cell_type": "code",
   "execution_count": 9,
   "metadata": {},
   "outputs": [
    {
     "name": "stdout",
     "output_type": "stream",
     "text": [
      "[*********************100%%**********************]  1 of 1 completed\n"
     ]
    }
   ],
   "source": [
    "df = pdr.get_data_yahoo(\"AMZN\", start=\"2019-01-01\", end=\"2020-01-01\")"
   ]
  },
  {
   "cell_type": "code",
   "execution_count": 10,
   "metadata": {},
   "outputs": [
    {
     "data": {
      "text/html": [
       "<div>\n",
       "<style scoped>\n",
       "    .dataframe tbody tr th:only-of-type {\n",
       "        vertical-align: middle;\n",
       "    }\n",
       "\n",
       "    .dataframe tbody tr th {\n",
       "        vertical-align: top;\n",
       "    }\n",
       "\n",
       "    .dataframe thead th {\n",
       "        text-align: right;\n",
       "    }\n",
       "</style>\n",
       "<table border=\"1\" class=\"dataframe\">\n",
       "  <thead>\n",
       "    <tr style=\"text-align: right;\">\n",
       "      <th></th>\n",
       "      <th>Open</th>\n",
       "      <th>High</th>\n",
       "      <th>Low</th>\n",
       "      <th>Close</th>\n",
       "      <th>Adj Close</th>\n",
       "      <th>Volume</th>\n",
       "    </tr>\n",
       "    <tr>\n",
       "      <th>Date</th>\n",
       "      <th></th>\n",
       "      <th></th>\n",
       "      <th></th>\n",
       "      <th></th>\n",
       "      <th></th>\n",
       "      <th></th>\n",
       "    </tr>\n",
       "  </thead>\n",
       "  <tbody>\n",
       "    <tr>\n",
       "      <th>2019-01-02</th>\n",
       "      <td>73.260002</td>\n",
       "      <td>77.667999</td>\n",
       "      <td>73.046501</td>\n",
       "      <td>76.956497</td>\n",
       "      <td>76.956497</td>\n",
       "      <td>159662000</td>\n",
       "    </tr>\n",
       "    <tr>\n",
       "      <th>2019-01-03</th>\n",
       "      <td>76.000504</td>\n",
       "      <td>76.900002</td>\n",
       "      <td>74.855499</td>\n",
       "      <td>75.014000</td>\n",
       "      <td>75.014000</td>\n",
       "      <td>139512000</td>\n",
       "    </tr>\n",
       "    <tr>\n",
       "      <th>2019-01-04</th>\n",
       "      <td>76.500000</td>\n",
       "      <td>79.699997</td>\n",
       "      <td>75.915497</td>\n",
       "      <td>78.769501</td>\n",
       "      <td>78.769501</td>\n",
       "      <td>183652000</td>\n",
       "    </tr>\n",
       "    <tr>\n",
       "      <th>2019-01-07</th>\n",
       "      <td>80.115501</td>\n",
       "      <td>81.727997</td>\n",
       "      <td>79.459503</td>\n",
       "      <td>81.475502</td>\n",
       "      <td>81.475502</td>\n",
       "      <td>159864000</td>\n",
       "    </tr>\n",
       "    <tr>\n",
       "      <th>2019-01-08</th>\n",
       "      <td>83.234497</td>\n",
       "      <td>83.830498</td>\n",
       "      <td>80.830498</td>\n",
       "      <td>82.829002</td>\n",
       "      <td>82.829002</td>\n",
       "      <td>177628000</td>\n",
       "    </tr>\n",
       "    <tr>\n",
       "      <th>...</th>\n",
       "      <td>...</td>\n",
       "      <td>...</td>\n",
       "      <td>...</td>\n",
       "      <td>...</td>\n",
       "      <td>...</td>\n",
       "      <td>...</td>\n",
       "    </tr>\n",
       "    <tr>\n",
       "      <th>2019-12-24</th>\n",
       "      <td>89.690498</td>\n",
       "      <td>89.778503</td>\n",
       "      <td>89.378998</td>\n",
       "      <td>89.460503</td>\n",
       "      <td>89.460503</td>\n",
       "      <td>17626000</td>\n",
       "    </tr>\n",
       "    <tr>\n",
       "      <th>2019-12-26</th>\n",
       "      <td>90.050499</td>\n",
       "      <td>93.523003</td>\n",
       "      <td>89.974998</td>\n",
       "      <td>93.438499</td>\n",
       "      <td>93.438499</td>\n",
       "      <td>120108000</td>\n",
       "    </tr>\n",
       "    <tr>\n",
       "      <th>2019-12-27</th>\n",
       "      <td>94.146004</td>\n",
       "      <td>95.070000</td>\n",
       "      <td>93.300499</td>\n",
       "      <td>93.489998</td>\n",
       "      <td>93.489998</td>\n",
       "      <td>123732000</td>\n",
       "    </tr>\n",
       "    <tr>\n",
       "      <th>2019-12-30</th>\n",
       "      <td>93.699997</td>\n",
       "      <td>94.199997</td>\n",
       "      <td>92.030998</td>\n",
       "      <td>92.344498</td>\n",
       "      <td>92.344498</td>\n",
       "      <td>73494000</td>\n",
       "    </tr>\n",
       "    <tr>\n",
       "      <th>2019-12-31</th>\n",
       "      <td>92.099998</td>\n",
       "      <td>92.663002</td>\n",
       "      <td>91.611504</td>\n",
       "      <td>92.391998</td>\n",
       "      <td>92.391998</td>\n",
       "      <td>50130000</td>\n",
       "    </tr>\n",
       "  </tbody>\n",
       "</table>\n",
       "<p>252 rows × 6 columns</p>\n",
       "</div>"
      ],
      "text/plain": [
       "                 Open       High        Low      Close  Adj Close     Volume\n",
       "Date                                                                        \n",
       "2019-01-02  73.260002  77.667999  73.046501  76.956497  76.956497  159662000\n",
       "2019-01-03  76.000504  76.900002  74.855499  75.014000  75.014000  139512000\n",
       "2019-01-04  76.500000  79.699997  75.915497  78.769501  78.769501  183652000\n",
       "2019-01-07  80.115501  81.727997  79.459503  81.475502  81.475502  159864000\n",
       "2019-01-08  83.234497  83.830498  80.830498  82.829002  82.829002  177628000\n",
       "...               ...        ...        ...        ...        ...        ...\n",
       "2019-12-24  89.690498  89.778503  89.378998  89.460503  89.460503   17626000\n",
       "2019-12-26  90.050499  93.523003  89.974998  93.438499  93.438499  120108000\n",
       "2019-12-27  94.146004  95.070000  93.300499  93.489998  93.489998  123732000\n",
       "2019-12-30  93.699997  94.199997  92.030998  92.344498  92.344498   73494000\n",
       "2019-12-31  92.099998  92.663002  91.611504  92.391998  92.391998   50130000\n",
       "\n",
       "[252 rows x 6 columns]"
      ]
     },
     "execution_count": 10,
     "metadata": {},
     "output_type": "execute_result"
    }
   ],
   "source": [
    "df"
   ]
  },
  {
   "cell_type": "code",
   "execution_count": 15,
   "metadata": {},
   "outputs": [
    {
     "data": {
      "text/plain": [
       "Text(0.5, 1.0, 'Amazon Stock Closing Price')"
      ]
     },
     "execution_count": 15,
     "metadata": {},
     "output_type": "execute_result"
    },
    {
     "data": {
      "image/png": "[encoded data removed]",
      "text/plain": [
       "<Figure size 1000x500 with 1 Axes>"
      ]
     },
     "metadata": {},
     "output_type": "display_data"
    }
   ],
   "source": [
    "plt.figure(figsize=(10, 5))\n",
    "df['Close'].plot()\n",
    "plt.ylabel('Close Price')\n",
    "plt.title('Amazon Stock Closing Price')\n"
   ]
  },
  {
   "cell_type": "code",
   "execution_count": 19,
   "metadata": {},
   "outputs": [
    {
     "name": "stdout",
     "output_type": "stream",
     "text": [
      "Date\n",
      "2019-01-02    76.956497\n",
      "2019-01-03    75.014000\n",
      "2019-01-04    78.769501\n",
      "2019-01-07    81.475502\n",
      "2019-01-08    82.829002\n",
      "Name: Close, dtype: float64\n",
      "                 Open       High        Low     Volume\n",
      "Date                                                  \n",
      "2019-01-02  73.260002  77.667999  73.046501  159662000\n",
      "2019-01-03  76.000504  76.900002  74.855499  139512000\n",
      "2019-01-04  76.500000  79.699997  75.915497  183652000\n",
      "2019-01-07  80.115501  81.727997  79.459503  159864000\n",
      "2019-01-08  83.234497  83.830498  80.830498  177628000\n"
     ]
    }
   ],
   "source": [
    "y = df['Close']\n",
    "X = df.copy()\n",
    "X.drop('Adj Close',  axis=1, inplace=True)\n",
    "X.drop('Close',  axis=1, inplace=True)\n",
    "\n",
    "print(y[:5])\n",
    "print(X[:5])"
   ]
  },
  {
   "cell_type": "markdown",
   "metadata": {},
   "source": [
    "# Splitting the dataset"
   ]
  },
  {
   "cell_type": "code",
   "execution_count": 21,
   "metadata": {},
   "outputs": [
    {
     "name": "stdout",
     "output_type": "stream",
     "text": [
      "252\n",
      "201\n",
      "51\n"
     ]
    }
   ],
   "source": [
    "from sklearn.model_selection import train_test_split\n",
    "\n",
    "X_train, X_test, y_train, y_test = train_test_split(\n",
    "    X,\n",
    "    y,\n",
    "    test_size= 0.2,\n",
    "    random_state=10\n",
    ")\n",
    "\n",
    "print(len(df))\n",
    "print(len(X_train))\n",
    "print(len(X_test))"
   ]
  },
  {
   "cell_type": "code",
   "execution_count": 23,
   "metadata": {},
   "outputs": [
    {
     "ename": "NameError",
     "evalue": "name 'linear_model' is not defined",
     "output_type": "error",
     "traceback": [
      "\u001b[1;31m---------------------------------------------------------------------------\u001b[0m",
      "\u001b[1;31mNameError\u001b[0m                                 Traceback (most recent call last)",
      "\u001b[1;32md:\\Final Project For ML Fall 2023\\HW4-Artificial Neural Network.ipynb Cell 10\u001b[0m line \u001b[0;36m1\n\u001b[1;32m----> <a href='vscode-notebook-cell:/d%3A/Final%20Project%20For%20ML%20Fall%202023/HW4-Artificial%20Neural%20Network.ipynb#X13sZmlsZQ%3D%3D?line=0'>1</a>\u001b[0m regr \u001b[39m=\u001b[39m linear_model\u001b[39m.\u001b[39mLinearRegression()\n",
      "\u001b[1;31mNameError\u001b[0m: name 'linear_model' is not defined"
     ]
    }
   ],
   "source": [
    "regr = linear_model.LinearRegression()"
   ]
  }
 ],
 "metadata": {
  "kernelspec": {
   "display_name": "Python 3",
   "language": "python",
   "name": "python3"
  },
  "language_info": {
   "codemirror_mode": {
    "name": "ipython",
    "version": 3
   },
   "file_extension": ".py",
   "mimetype": "text/x-python",
   "name": "python",
   "nbconvert_exporter": "python",
   "pygments_lexer": "ipython3",
   "version": "3.9.5"
  }
 },
 "nbformat": 4,
 "nbformat_minor": 2
}
